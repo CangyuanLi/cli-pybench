{
 "cells": [
  {
   "cell_type": "code",
   "execution_count": 14,
   "metadata": {},
   "outputs": [
    {
     "data": {
      "text/html": [
       "<div><style>\n",
       ".dataframe > thead > tr,\n",
       ".dataframe > tbody > tr {\n",
       "  text-align: right;\n",
       "  white-space: pre-wrap;\n",
       "}\n",
       "</style>\n",
       "<small>shape: (18, 19)</small><table border=\"1\" class=\"dataframe\"><thead><tr><th>function</th><th>parameters</th><th>mean</th><th>min</th><th>max</th><th>median</th><th>std</th><th>number</th><th>repeat</th><th>warmups</th><th>garbage_collection</th><th>timestamp</th><th>branch</th><th>commit</th><th>version</th><th>available_cpus</th><th>available_ram</th><th>platform</th><th>processor</th></tr><tr><td>str</td><td>str</td><td>f64</td><td>f64</td><td>f64</td><td>f64</td><td>f64</td><td>i64</td><td>i64</td><td>i64</td><td>bool</td><td>f64</td><td>str</td><td>str</td><td>str</td><td>i64</td><td>str</td><td>str</td><td>str</td></tr></thead><tbody><tr><td>&quot;my_func3&quot;</td><td>&quot;{&quot;a&quot;: 2}&quot;</td><td>5.3513e-7</td><td>4.1000e-7</td><td>0.000002</td><td>4.2100e-7</td><td>3.8293e-7</td><td>1</td><td>30</td><td>0</td><td>false</td><td>1.7220e9</td><td>&quot;master\n",
       "&quot;</td><td>&quot;893719f796d8fe39b6751268cd5892…</td><td>&quot;0.0.6&quot;</td><td>16</td><td>&quot;9.14GB&quot;</td><td>&quot;Linux-5.15.123.1-microsoft-sta…</td><td>&quot;x86_64&quot;</td></tr><tr><td>&quot;my_func4&quot;</td><td>&quot;{}&quot;</td><td>1.5257e-7</td><td>9.0000e-8</td><td>8.9200e-7</td><td>1.0550e-7</td><td>1.5334e-7</td><td>1</td><td>30</td><td>0</td><td>false</td><td>1.7220e9</td><td>&quot;master\n",
       "&quot;</td><td>&quot;893719f796d8fe39b6751268cd5892…</td><td>&quot;0.0.6&quot;</td><td>16</td><td>&quot;9.14GB&quot;</td><td>&quot;Linux-5.15.123.1-microsoft-sta…</td><td>&quot;x86_64&quot;</td></tr><tr><td>&quot;my_func2&quot;</td><td>&quot;{}&quot;</td><td>7.5137e-7</td><td>2.5000e-7</td><td>0.000013</td><td>2.8000e-7</td><td>0.000002</td><td>1</td><td>30</td><td>0</td><td>false</td><td>1.7220e9</td><td>&quot;master\n",
       "&quot;</td><td>&quot;893719f796d8fe39b6751268cd5892…</td><td>&quot;0.0.6&quot;</td><td>16</td><td>&quot;9.14GB&quot;</td><td>&quot;Linux-5.15.123.1-microsoft-sta…</td><td>&quot;x86_64&quot;</td></tr><tr><td>&quot;my_func6&quot;</td><td>&quot;{}&quot;</td><td>2.8277e-7</td><td>1.8000e-7</td><td>0.000002</td><td>2.0000e-7</td><td>3.1807e-7</td><td>1</td><td>30</td><td>0</td><td>false</td><td>1.7220e9</td><td>&quot;master\n",
       "&quot;</td><td>&quot;893719f796d8fe39b6751268cd5892…</td><td>&quot;0.0.6&quot;</td><td>16</td><td>&quot;9.14GB&quot;</td><td>&quot;Linux-5.15.123.1-microsoft-sta…</td><td>&quot;x86_64&quot;</td></tr><tr><td>&quot;my_func&quot;</td><td>&quot;{}&quot;</td><td>0.000001</td><td>3.1000e-7</td><td>0.000023</td><td>3.7000e-7</td><td>0.000004</td><td>1</td><td>30</td><td>0</td><td>false</td><td>1.7220e9</td><td>&quot;master\n",
       "&quot;</td><td>&quot;893719f796d8fe39b6751268cd5892…</td><td>&quot;0.0.6&quot;</td><td>16</td><td>&quot;9.14GB&quot;</td><td>&quot;Linux-5.15.123.1-microsoft-sta…</td><td>&quot;x86_64&quot;</td></tr><tr><td>&hellip;</td><td>&hellip;</td><td>&hellip;</td><td>&hellip;</td><td>&hellip;</td><td>&hellip;</td><td>&hellip;</td><td>&hellip;</td><td>&hellip;</td><td>&hellip;</td><td>&hellip;</td><td>&hellip;</td><td>&hellip;</td><td>&hellip;</td><td>&hellip;</td><td>&hellip;</td><td>&hellip;</td><td>&hellip;</td><td>&hellip;</td></tr><tr><td>&quot;my_func2&quot;</td><td>null</td><td>8.2060e-7</td><td>2.5000e-7</td><td>0.000015</td><td>2.8500e-7</td><td>0.000003</td><td>1</td><td>30</td><td>0</td><td>false</td><td>1.7221e9</td><td>&quot;master\n",
       "&quot;</td><td>&quot;893719f796d8fe39b6751268cd5892…</td><td>&quot;0.0.6&quot;</td><td>16</td><td>&quot;9.02GB&quot;</td><td>&quot;Linux-5.15.123.1-microsoft-sta…</td><td>&quot;x86_64&quot;</td></tr><tr><td>&quot;my_func3&quot;</td><td>&quot;{&quot;a&quot;: 2}&quot;</td><td>4.2577e-7</td><td>3.3000e-7</td><td>0.000002</td><td>3.5050e-7</td><td>3.0460e-7</td><td>1</td><td>30</td><td>0</td><td>false</td><td>1.7221e9</td><td>&quot;master\n",
       "&quot;</td><td>&quot;893719f796d8fe39b6751268cd5892…</td><td>&quot;0.0.6&quot;</td><td>16</td><td>&quot;9.02GB&quot;</td><td>&quot;Linux-5.15.123.1-microsoft-sta…</td><td>&quot;x86_64&quot;</td></tr><tr><td>&quot;my_func4&quot;</td><td>null</td><td>1.6023e-7</td><td>9.0000e-8</td><td>9.2200e-7</td><td>1.2000e-7</td><td>1.5694e-7</td><td>1</td><td>30</td><td>0</td><td>false</td><td>1.7221e9</td><td>&quot;master\n",
       "&quot;</td><td>&quot;893719f796d8fe39b6751268cd5892…</td><td>&quot;0.0.6&quot;</td><td>16</td><td>&quot;9.02GB&quot;</td><td>&quot;Linux-5.15.123.1-microsoft-sta…</td><td>&quot;x86_64&quot;</td></tr><tr><td>&quot;my_func&quot;</td><td>null</td><td>0.000001</td><td>2.5000e-7</td><td>0.000022</td><td>2.7100e-7</td><td>0.000004</td><td>1</td><td>30</td><td>0</td><td>false</td><td>1.7221e9</td><td>&quot;master\n",
       "&quot;</td><td>&quot;893719f796d8fe39b6751268cd5892…</td><td>&quot;0.0.6&quot;</td><td>16</td><td>&quot;9.02GB&quot;</td><td>&quot;Linux-5.15.123.1-microsoft-sta…</td><td>&quot;x86_64&quot;</td></tr><tr><td>&quot;my_func3&quot;</td><td>&quot;{&quot;a&quot;: 1}&quot;</td><td>5.9917e-7</td><td>3.3000e-7</td><td>0.000005</td><td>3.5050e-7</td><td>9.4605e-7</td><td>1</td><td>30</td><td>0</td><td>false</td><td>1.7221e9</td><td>&quot;master\n",
       "&quot;</td><td>&quot;893719f796d8fe39b6751268cd5892…</td><td>&quot;0.0.6&quot;</td><td>16</td><td>&quot;9.02GB&quot;</td><td>&quot;Linux-5.15.123.1-microsoft-sta…</td><td>&quot;x86_64&quot;</td></tr></tbody></table></div>"
      ],
      "text/plain": [
       "shape: (18, 19)\n",
       "┌──────────┬───────────┬───────────┬───────────┬───┬───────────┬───────────┬───────────┬───────────┐\n",
       "│ function ┆ parameter ┆ mean      ┆ min       ┆ … ┆ available ┆ available ┆ platform  ┆ processor │\n",
       "│ ---      ┆ s         ┆ ---       ┆ ---       ┆   ┆ _cpus     ┆ _ram      ┆ ---       ┆ ---       │\n",
       "│ str      ┆ ---       ┆ f64       ┆ f64       ┆   ┆ ---       ┆ ---       ┆ str       ┆ str       │\n",
       "│          ┆ str       ┆           ┆           ┆   ┆ i64       ┆ str       ┆           ┆           │\n",
       "╞══════════╪═══════════╪═══════════╪═══════════╪═══╪═══════════╪═══════════╪═══════════╪═══════════╡\n",
       "│ my_func3 ┆ {\"a\": 2}  ┆ 5.3513e-7 ┆ 4.1000e-7 ┆ … ┆ 16        ┆ 9.14GB    ┆ Linux-5.1 ┆ x86_64    │\n",
       "│          ┆           ┆           ┆           ┆   ┆           ┆           ┆ 5.123.1-m ┆           │\n",
       "│          ┆           ┆           ┆           ┆   ┆           ┆           ┆ icrosoft- ┆           │\n",
       "│          ┆           ┆           ┆           ┆   ┆           ┆           ┆ sta…      ┆           │\n",
       "│ my_func4 ┆ {}        ┆ 1.5257e-7 ┆ 9.0000e-8 ┆ … ┆ 16        ┆ 9.14GB    ┆ Linux-5.1 ┆ x86_64    │\n",
       "│          ┆           ┆           ┆           ┆   ┆           ┆           ┆ 5.123.1-m ┆           │\n",
       "│          ┆           ┆           ┆           ┆   ┆           ┆           ┆ icrosoft- ┆           │\n",
       "│          ┆           ┆           ┆           ┆   ┆           ┆           ┆ sta…      ┆           │\n",
       "│ my_func2 ┆ {}        ┆ 7.5137e-7 ┆ 2.5000e-7 ┆ … ┆ 16        ┆ 9.14GB    ┆ Linux-5.1 ┆ x86_64    │\n",
       "│          ┆           ┆           ┆           ┆   ┆           ┆           ┆ 5.123.1-m ┆           │\n",
       "│          ┆           ┆           ┆           ┆   ┆           ┆           ┆ icrosoft- ┆           │\n",
       "│          ┆           ┆           ┆           ┆   ┆           ┆           ┆ sta…      ┆           │\n",
       "│ my_func6 ┆ {}        ┆ 2.8277e-7 ┆ 1.8000e-7 ┆ … ┆ 16        ┆ 9.14GB    ┆ Linux-5.1 ┆ x86_64    │\n",
       "│          ┆           ┆           ┆           ┆   ┆           ┆           ┆ 5.123.1-m ┆           │\n",
       "│          ┆           ┆           ┆           ┆   ┆           ┆           ┆ icrosoft- ┆           │\n",
       "│          ┆           ┆           ┆           ┆   ┆           ┆           ┆ sta…      ┆           │\n",
       "│ my_func  ┆ {}        ┆ 0.000001  ┆ 3.1000e-7 ┆ … ┆ 16        ┆ 9.14GB    ┆ Linux-5.1 ┆ x86_64    │\n",
       "│          ┆           ┆           ┆           ┆   ┆           ┆           ┆ 5.123.1-m ┆           │\n",
       "│          ┆           ┆           ┆           ┆   ┆           ┆           ┆ icrosoft- ┆           │\n",
       "│          ┆           ┆           ┆           ┆   ┆           ┆           ┆ sta…      ┆           │\n",
       "│ …        ┆ …         ┆ …         ┆ …         ┆ … ┆ …         ┆ …         ┆ …         ┆ …         │\n",
       "│ my_func2 ┆ null      ┆ 8.2060e-7 ┆ 2.5000e-7 ┆ … ┆ 16        ┆ 9.02GB    ┆ Linux-5.1 ┆ x86_64    │\n",
       "│          ┆           ┆           ┆           ┆   ┆           ┆           ┆ 5.123.1-m ┆           │\n",
       "│          ┆           ┆           ┆           ┆   ┆           ┆           ┆ icrosoft- ┆           │\n",
       "│          ┆           ┆           ┆           ┆   ┆           ┆           ┆ sta…      ┆           │\n",
       "│ my_func3 ┆ {\"a\": 2}  ┆ 4.2577e-7 ┆ 3.3000e-7 ┆ … ┆ 16        ┆ 9.02GB    ┆ Linux-5.1 ┆ x86_64    │\n",
       "│          ┆           ┆           ┆           ┆   ┆           ┆           ┆ 5.123.1-m ┆           │\n",
       "│          ┆           ┆           ┆           ┆   ┆           ┆           ┆ icrosoft- ┆           │\n",
       "│          ┆           ┆           ┆           ┆   ┆           ┆           ┆ sta…      ┆           │\n",
       "│ my_func4 ┆ null      ┆ 1.6023e-7 ┆ 9.0000e-8 ┆ … ┆ 16        ┆ 9.02GB    ┆ Linux-5.1 ┆ x86_64    │\n",
       "│          ┆           ┆           ┆           ┆   ┆           ┆           ┆ 5.123.1-m ┆           │\n",
       "│          ┆           ┆           ┆           ┆   ┆           ┆           ┆ icrosoft- ┆           │\n",
       "│          ┆           ┆           ┆           ┆   ┆           ┆           ┆ sta…      ┆           │\n",
       "│ my_func  ┆ null      ┆ 0.000001  ┆ 2.5000e-7 ┆ … ┆ 16        ┆ 9.02GB    ┆ Linux-5.1 ┆ x86_64    │\n",
       "│          ┆           ┆           ┆           ┆   ┆           ┆           ┆ 5.123.1-m ┆           │\n",
       "│          ┆           ┆           ┆           ┆   ┆           ┆           ┆ icrosoft- ┆           │\n",
       "│          ┆           ┆           ┆           ┆   ┆           ┆           ┆ sta…      ┆           │\n",
       "│ my_func3 ┆ {\"a\": 1}  ┆ 5.9917e-7 ┆ 3.3000e-7 ┆ … ┆ 16        ┆ 9.02GB    ┆ Linux-5.1 ┆ x86_64    │\n",
       "│          ┆           ┆           ┆           ┆   ┆           ┆           ┆ 5.123.1-m ┆           │\n",
       "│          ┆           ┆           ┆           ┆   ┆           ┆           ┆ icrosoft- ┆           │\n",
       "│          ┆           ┆           ┆           ┆   ┆           ┆           ┆ sta…      ┆           │\n",
       "└──────────┴───────────┴───────────┴───────────┴───┴───────────┴───────────┴───────────┴───────────┘"
      ]
     },
     "execution_count": 14,
     "metadata": {},
     "output_type": "execute_result"
    }
   ],
   "source": [
    "import polars as pl\n",
    "\n",
    "pl.read_parquet(\"results.parquet\").filter(pl.col(\"parameters\").is_null())"
   ]
  }
 ],
 "metadata": {
  "kernelspec": {
   "display_name": "venv",
   "language": "python",
   "name": "python3"
  },
  "language_info": {
   "codemirror_mode": {
    "name": "ipython",
    "version": 3
   },
   "file_extension": ".py",
   "mimetype": "text/x-python",
   "name": "python",
   "nbconvert_exporter": "python",
   "pygments_lexer": "ipython3",
   "version": "3.12.3"
  }
 },
 "nbformat": 4,
 "nbformat_minor": 2
}
