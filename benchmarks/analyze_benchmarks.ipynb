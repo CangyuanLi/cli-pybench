{
 "cells": [
  {
   "cell_type": "code",
   "execution_count": 2,
   "metadata": {},
   "outputs": [
    {
     "data": {
      "text/html": [
       "<div><style>\n",
       ".dataframe > thead > tr,\n",
       ".dataframe > tbody > tr {\n",
       "  text-align: right;\n",
       "  white-space: pre-wrap;\n",
       "}\n",
       "</style>\n",
       "<small>shape: (120, 15)</small><table border=\"1\" class=\"dataframe\"><thead><tr><th>function</th><th>parameters</th><th>mean</th><th>min</th><th>max</th><th>median</th><th>std</th><th>number</th><th>repeat</th><th>warmups</th><th>garbage_collection</th><th>timestamp</th><th>branch</th><th>commit</th><th>version</th></tr><tr><td>str</td><td>str</td><td>f64</td><td>f64</td><td>f64</td><td>f64</td><td>f64</td><td>i64</td><td>i64</td><td>i64</td><td>bool</td><td>f64</td><td>str</td><td>str</td><td>str</td></tr></thead><tbody><tr><td>&quot;bench_my_func2&quot;</td><td>&quot;{&quot;a&quot;: 2, &quot;b&quot;: 3}&quot;</td><td>4.6950e-7</td><td>3.5100e-7</td><td>0.000002</td><td>3.8100e-7</td><td>3.0338e-7</td><td>1</td><td>30</td><td>0</td><td>false</td><td>1.7215e9</td><td>&quot;master\n",
       "&quot;</td><td>&quot;3317a2f3f9a1b20451eb6c1a579aa8…</td><td>&quot;0.0.1&quot;</td></tr><tr><td>&quot;bench_my_func&quot;</td><td>&quot;{&quot;a&quot;: 1, &quot;b&quot;: 3}&quot;</td><td>5.0030e-7</td><td>3.6100e-7</td><td>0.000002</td><td>4.0000e-7</td><td>3.8572e-7</td><td>1</td><td>30</td><td>0</td><td>false</td><td>1.7215e9</td><td>&quot;master\n",
       "&quot;</td><td>&quot;3317a2f3f9a1b20451eb6c1a579aa8…</td><td>&quot;0.0.1&quot;</td></tr><tr><td>&quot;bench_my_func2&quot;</td><td>&quot;{&quot;a&quot;: 1, &quot;b&quot;: 4}&quot;</td><td>5.9650e-7</td><td>4.4100e-7</td><td>0.000003</td><td>4.9100e-7</td><td>4.0804e-7</td><td>1</td><td>30</td><td>0</td><td>false</td><td>1.7215e9</td><td>&quot;master\n",
       "&quot;</td><td>&quot;3317a2f3f9a1b20451eb6c1a579aa8…</td><td>&quot;0.0.1&quot;</td></tr><tr><td>&quot;bench_my_func&quot;</td><td>&quot;{&quot;a&quot;: 2, &quot;b&quot;: 3}&quot;</td><td>4.8763e-7</td><td>3.6000e-7</td><td>0.000002</td><td>3.9100e-7</td><td>3.6511e-7</td><td>1</td><td>30</td><td>0</td><td>false</td><td>1.7215e9</td><td>&quot;master\n",
       "&quot;</td><td>&quot;3317a2f3f9a1b20451eb6c1a579aa8…</td><td>&quot;0.0.1&quot;</td></tr><tr><td>&quot;bench_my_func&quot;</td><td>&quot;{&quot;a&quot;: 1, &quot;b&quot;: 4}&quot;</td><td>0.000021</td><td>3.6100e-7</td><td>0.000606</td><td>8.7650e-7</td><td>0.00011</td><td>1</td><td>30</td><td>0</td><td>false</td><td>1.7215e9</td><td>&quot;master\n",
       "&quot;</td><td>&quot;3317a2f3f9a1b20451eb6c1a579aa8…</td><td>&quot;0.0.1&quot;</td></tr><tr><td>&hellip;</td><td>&hellip;</td><td>&hellip;</td><td>&hellip;</td><td>&hellip;</td><td>&hellip;</td><td>&hellip;</td><td>&hellip;</td><td>&hellip;</td><td>&hellip;</td><td>&hellip;</td><td>&hellip;</td><td>&hellip;</td><td>&hellip;</td><td>&hellip;</td></tr><tr><td>&quot;bench_my_func2&quot;</td><td>&quot;{&quot;a&quot;: 1, &quot;b&quot;: 3}&quot;</td><td>4.9570e-7</td><td>3.7100e-7</td><td>0.000002</td><td>3.9100e-7</td><td>3.6057e-7</td><td>1</td><td>30</td><td>0</td><td>false</td><td>1.7215e9</td><td>&quot;master\n",
       "&quot;</td><td>&quot;3317a2f3f9a1b20451eb6c1a579aa8…</td><td>&quot;0.0.1&quot;</td></tr><tr><td>&quot;bench_my_func2&quot;</td><td>&quot;{&quot;a&quot;: 1, &quot;b&quot;: 4}&quot;</td><td>4.6787e-7</td><td>3.7100e-7</td><td>0.000002</td><td>3.9100e-7</td><td>2.8466e-7</td><td>1</td><td>30</td><td>0</td><td>false</td><td>1.7215e9</td><td>&quot;master\n",
       "&quot;</td><td>&quot;3317a2f3f9a1b20451eb6c1a579aa8…</td><td>&quot;0.0.1&quot;</td></tr><tr><td>&quot;bench_my_func2&quot;</td><td>&quot;{&quot;a&quot;: 2, &quot;b&quot;: 3}&quot;</td><td>4.7883e-7</td><td>3.8000e-7</td><td>0.000002</td><td>3.9100e-7</td><td>3.2836e-7</td><td>1</td><td>30</td><td>0</td><td>false</td><td>1.7215e9</td><td>&quot;master\n",
       "&quot;</td><td>&quot;3317a2f3f9a1b20451eb6c1a579aa8…</td><td>&quot;0.0.1&quot;</td></tr><tr><td>&quot;bench_my_func2&quot;</td><td>&quot;{&quot;a&quot;: 2, &quot;b&quot;: 4}&quot;</td><td>9.7153e-7</td><td>5.8100e-7</td><td>0.000004</td><td>7.8150e-7</td><td>6.0483e-7</td><td>1</td><td>30</td><td>0</td><td>false</td><td>1.7215e9</td><td>&quot;master\n",
       "&quot;</td><td>&quot;3317a2f3f9a1b20451eb6c1a579aa8…</td><td>&quot;0.0.1&quot;</td></tr><tr><td>&quot;bench_my_func&quot;</td><td>&quot;{&quot;a&quot;: 2, &quot;b&quot;: 4}&quot;</td><td>4.9333e-7</td><td>3.7000e-7</td><td>0.000002</td><td>3.9050e-7</td><td>3.8253e-7</td><td>1</td><td>30</td><td>0</td><td>false</td><td>1.7215e9</td><td>&quot;master\n",
       "&quot;</td><td>&quot;3317a2f3f9a1b20451eb6c1a579aa8…</td><td>&quot;0.0.1&quot;</td></tr></tbody></table></div>"
      ],
      "text/plain": [
       "shape: (120, 15)\n",
       "┌─────────────┬────────────┬───────────┬───────────┬───┬───────────┬────────┬────────────┬─────────┐\n",
       "│ function    ┆ parameters ┆ mean      ┆ min       ┆ … ┆ timestamp ┆ branch ┆ commit     ┆ version │\n",
       "│ ---         ┆ ---        ┆ ---       ┆ ---       ┆   ┆ ---       ┆ ---    ┆ ---        ┆ ---     │\n",
       "│ str         ┆ str        ┆ f64       ┆ f64       ┆   ┆ f64       ┆ str    ┆ str        ┆ str     │\n",
       "╞═════════════╪════════════╪═══════════╪═══════════╪═══╪═══════════╪════════╪════════════╪═════════╡\n",
       "│ bench_my_fu ┆ {\"a\": 2,   ┆ 4.6950e-7 ┆ 3.5100e-7 ┆ … ┆ 1.7215e9  ┆ master ┆ 3317a2f3f9 ┆ 0.0.1   │\n",
       "│ nc2         ┆ \"b\": 3}    ┆           ┆           ┆   ┆           ┆        ┆ a1b20451eb ┆         │\n",
       "│             ┆            ┆           ┆           ┆   ┆           ┆        ┆ 6c1a579aa8 ┆         │\n",
       "│             ┆            ┆           ┆           ┆   ┆           ┆        ┆ …          ┆         │\n",
       "│ bench_my_fu ┆ {\"a\": 1,   ┆ 5.0030e-7 ┆ 3.6100e-7 ┆ … ┆ 1.7215e9  ┆ master ┆ 3317a2f3f9 ┆ 0.0.1   │\n",
       "│ nc          ┆ \"b\": 3}    ┆           ┆           ┆   ┆           ┆        ┆ a1b20451eb ┆         │\n",
       "│             ┆            ┆           ┆           ┆   ┆           ┆        ┆ 6c1a579aa8 ┆         │\n",
       "│             ┆            ┆           ┆           ┆   ┆           ┆        ┆ …          ┆         │\n",
       "│ bench_my_fu ┆ {\"a\": 1,   ┆ 5.9650e-7 ┆ 4.4100e-7 ┆ … ┆ 1.7215e9  ┆ master ┆ 3317a2f3f9 ┆ 0.0.1   │\n",
       "│ nc2         ┆ \"b\": 4}    ┆           ┆           ┆   ┆           ┆        ┆ a1b20451eb ┆         │\n",
       "│             ┆            ┆           ┆           ┆   ┆           ┆        ┆ 6c1a579aa8 ┆         │\n",
       "│             ┆            ┆           ┆           ┆   ┆           ┆        ┆ …          ┆         │\n",
       "│ bench_my_fu ┆ {\"a\": 2,   ┆ 4.8763e-7 ┆ 3.6000e-7 ┆ … ┆ 1.7215e9  ┆ master ┆ 3317a2f3f9 ┆ 0.0.1   │\n",
       "│ nc          ┆ \"b\": 3}    ┆           ┆           ┆   ┆           ┆        ┆ a1b20451eb ┆         │\n",
       "│             ┆            ┆           ┆           ┆   ┆           ┆        ┆ 6c1a579aa8 ┆         │\n",
       "│             ┆            ┆           ┆           ┆   ┆           ┆        ┆ …          ┆         │\n",
       "│ bench_my_fu ┆ {\"a\": 1,   ┆ 0.000021  ┆ 3.6100e-7 ┆ … ┆ 1.7215e9  ┆ master ┆ 3317a2f3f9 ┆ 0.0.1   │\n",
       "│ nc          ┆ \"b\": 4}    ┆           ┆           ┆   ┆           ┆        ┆ a1b20451eb ┆         │\n",
       "│             ┆            ┆           ┆           ┆   ┆           ┆        ┆ 6c1a579aa8 ┆         │\n",
       "│             ┆            ┆           ┆           ┆   ┆           ┆        ┆ …          ┆         │\n",
       "│ …           ┆ …          ┆ …         ┆ …         ┆ … ┆ …         ┆ …      ┆ …          ┆ …       │\n",
       "│ bench_my_fu ┆ {\"a\": 1,   ┆ 4.9570e-7 ┆ 3.7100e-7 ┆ … ┆ 1.7215e9  ┆ master ┆ 3317a2f3f9 ┆ 0.0.1   │\n",
       "│ nc2         ┆ \"b\": 3}    ┆           ┆           ┆   ┆           ┆        ┆ a1b20451eb ┆         │\n",
       "│             ┆            ┆           ┆           ┆   ┆           ┆        ┆ 6c1a579aa8 ┆         │\n",
       "│             ┆            ┆           ┆           ┆   ┆           ┆        ┆ …          ┆         │\n",
       "│ bench_my_fu ┆ {\"a\": 1,   ┆ 4.6787e-7 ┆ 3.7100e-7 ┆ … ┆ 1.7215e9  ┆ master ┆ 3317a2f3f9 ┆ 0.0.1   │\n",
       "│ nc2         ┆ \"b\": 4}    ┆           ┆           ┆   ┆           ┆        ┆ a1b20451eb ┆         │\n",
       "│             ┆            ┆           ┆           ┆   ┆           ┆        ┆ 6c1a579aa8 ┆         │\n",
       "│             ┆            ┆           ┆           ┆   ┆           ┆        ┆ …          ┆         │\n",
       "│ bench_my_fu ┆ {\"a\": 2,   ┆ 4.7883e-7 ┆ 3.8000e-7 ┆ … ┆ 1.7215e9  ┆ master ┆ 3317a2f3f9 ┆ 0.0.1   │\n",
       "│ nc2         ┆ \"b\": 3}    ┆           ┆           ┆   ┆           ┆        ┆ a1b20451eb ┆         │\n",
       "│             ┆            ┆           ┆           ┆   ┆           ┆        ┆ 6c1a579aa8 ┆         │\n",
       "│             ┆            ┆           ┆           ┆   ┆           ┆        ┆ …          ┆         │\n",
       "│ bench_my_fu ┆ {\"a\": 2,   ┆ 9.7153e-7 ┆ 5.8100e-7 ┆ … ┆ 1.7215e9  ┆ master ┆ 3317a2f3f9 ┆ 0.0.1   │\n",
       "│ nc2         ┆ \"b\": 4}    ┆           ┆           ┆   ┆           ┆        ┆ a1b20451eb ┆         │\n",
       "│             ┆            ┆           ┆           ┆   ┆           ┆        ┆ 6c1a579aa8 ┆         │\n",
       "│             ┆            ┆           ┆           ┆   ┆           ┆        ┆ …          ┆         │\n",
       "│ bench_my_fu ┆ {\"a\": 2,   ┆ 4.9333e-7 ┆ 3.7000e-7 ┆ … ┆ 1.7215e9  ┆ master ┆ 3317a2f3f9 ┆ 0.0.1   │\n",
       "│ nc          ┆ \"b\": 4}    ┆           ┆           ┆   ┆           ┆        ┆ a1b20451eb ┆         │\n",
       "│             ┆            ┆           ┆           ┆   ┆           ┆        ┆ 6c1a579aa8 ┆         │\n",
       "│             ┆            ┆           ┆           ┆   ┆           ┆        ┆ …          ┆         │\n",
       "└─────────────┴────────────┴───────────┴───────────┴───┴───────────┴────────┴────────────┴─────────┘"
      ]
     },
     "execution_count": 2,
     "metadata": {},
     "output_type": "execute_result"
    }
   ],
   "source": [
    "import polars as pl\n",
    "\n",
    "pl.read_parquet(\"results.parquet\")"
   ]
  }
 ],
 "metadata": {
  "kernelspec": {
   "display_name": "venv",
   "language": "python",
   "name": "python3"
  },
  "language_info": {
   "codemirror_mode": {
    "name": "ipython",
    "version": 3
   },
   "file_extension": ".py",
   "mimetype": "text/x-python",
   "name": "python",
   "nbconvert_exporter": "python",
   "pygments_lexer": "ipython3",
   "version": "3.12.3"
  }
 },
 "nbformat": 4,
 "nbformat_minor": 2
}
